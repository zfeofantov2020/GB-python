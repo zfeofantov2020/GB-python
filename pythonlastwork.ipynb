{
 "cells": [
  {
   "cell_type": "code",
   "execution_count": 10,
   "id": "5a30b141",
   "metadata": {},
   "outputs": [
    {
     "name": "stdout",
     "output_type": "stream",
     "text": [
      "Requirement already satisfied: numpy in /Library/Frameworks/Python.framework/Versions/3.11/lib/python3.11/site-packages (1.24.1)\n",
      "Requirement already satisfied: sympy in /Library/Frameworks/Python.framework/Versions/3.11/lib/python3.11/site-packages (1.11.1)\n",
      "Requirement already satisfied: mpmath>=0.19 in /Library/Frameworks/Python.framework/Versions/3.11/lib/python3.11/site-packages (from sympy) (1.2.1)\n",
      "Requirement already satisfied: matplotlib in /Library/Frameworks/Python.framework/Versions/3.11/lib/python3.11/site-packages (3.6.3)\n",
      "Requirement already satisfied: contourpy>=1.0.1 in /Library/Frameworks/Python.framework/Versions/3.11/lib/python3.11/site-packages (from matplotlib) (1.0.7)\n",
      "Requirement already satisfied: cycler>=0.10 in /Library/Frameworks/Python.framework/Versions/3.11/lib/python3.11/site-packages (from matplotlib) (0.11.0)\n",
      "Requirement already satisfied: fonttools>=4.22.0 in /Library/Frameworks/Python.framework/Versions/3.11/lib/python3.11/site-packages (from matplotlib) (4.38.0)\n",
      "Requirement already satisfied: kiwisolver>=1.0.1 in /Library/Frameworks/Python.framework/Versions/3.11/lib/python3.11/site-packages (from matplotlib) (1.4.4)\n",
      "Requirement already satisfied: numpy>=1.19 in /Library/Frameworks/Python.framework/Versions/3.11/lib/python3.11/site-packages (from matplotlib) (1.24.1)\n",
      "Requirement already satisfied: packaging>=20.0 in /Library/Frameworks/Python.framework/Versions/3.11/lib/python3.11/site-packages (from matplotlib) (23.0)\n",
      "Requirement already satisfied: pillow>=6.2.0 in /Library/Frameworks/Python.framework/Versions/3.11/lib/python3.11/site-packages (from matplotlib) (9.4.0)\n",
      "Requirement already satisfied: pyparsing>=2.2.1 in /Library/Frameworks/Python.framework/Versions/3.11/lib/python3.11/site-packages (from matplotlib) (3.0.9)\n",
      "Requirement already satisfied: python-dateutil>=2.7 in /Library/Frameworks/Python.framework/Versions/3.11/lib/python3.11/site-packages (from matplotlib) (2.8.2)\n",
      "Requirement already satisfied: six>=1.5 in /Library/Frameworks/Python.framework/Versions/3.11/lib/python3.11/site-packages (from python-dateutil>=2.7->matplotlib) (1.16.0)\n"
     ]
    }
   ],
   "source": [
    "!pip install numpy\n",
    "!pip install sympy\n",
    "!pip install matplotlib"
   ]
  },
  {
   "cell_type": "code",
   "execution_count": 12,
   "id": "da843dc9",
   "metadata": {},
   "outputs": [],
   "source": [
    "#We define the function f(x)::\n",
    "x = sym.symbols('x')\n",
    "f = 0.6*x**3 + 5.5*x**2 + 10*x - 5"
   ]
  },
  {
   "cell_type": "code",
   "execution_count": 19,
   "id": "048ef68f",
   "metadata": {},
   "outputs": [
    {
     "name": "stdout",
     "output_type": "stream",
     "text": [
      "[-6.32174537314726 + 0.e-22*I, -3.25046383307744 - 0.e-22*I, 0.405542539558034 - 0.e-21*I]\n"
     ]
    }
   ],
   "source": [
    "#Determine Roots:\n",
    "roots = sym.solve(f)\n",
    "print(roots)"
   ]
  },
  {
   "cell_type": "code",
   "execution_count": 20,
   "id": "4d4cb4d2",
   "metadata": {},
   "outputs": [
    {
     "name": "stdout",
     "output_type": "stream",
     "text": [
      "[-5.00000000000000, -1.11111111111111]\n"
     ]
    }
   ],
   "source": [
    "#Find the intervals at which the function increases:\n",
    "increasing_intervals = sym.solve(sym.diff(f))\n",
    "print(increasing_intervals)"
   ]
  },
  {
   "cell_type": "code",
   "execution_count": 22,
   "id": "cd88e95d",
   "metadata": {},
   "outputs": [
    {
     "name": "stdout",
     "output_type": "stream",
     "text": [
      "[-3.05555555555556]\n"
     ]
    }
   ],
   "source": [
    "#Find intervals where the function decreases:\n",
    "decreasing_intervals = sym.solve(sym.diff(f,x).diff())\n",
    "print(decreasing_intervals)"
   ]
  },
  {
   "cell_type": "code",
   "execution_count": 24,
   "id": "f7bbe067",
   "metadata": {},
   "outputs": [
    {
     "data": {
      "image/png": "[encoded data removed]",
      "text/plain": [
       "<Figure size 640x480 with 1 Axes>"
      ]
     },
     "metadata": {},
     "output_type": "display_data"
    }
   ],
   "source": [
    "#Build Graph:\n",
    "import matplotlib.pyplot as plt\n",
    "import numpy as np\n",
    "\n",
    "x_vals = np.linspace(-5,5,1000)\n",
    "y_vals = [f.evalf(subs={x:val}) for val in x_vals]\n",
    "\n",
    "plt.plot(x_vals,y_vals)\n",
    "plt.xlabel('x')\n",
    "plt.ylabel('y')\n",
    "plt.title('Graph of f(x)')\n",
    "plt.show()"
   ]
  },
  {
   "cell_type": "code",
   "execution_count": 25,
   "id": "1f4b6ec7",
   "metadata": {},
   "outputs": [
    {
     "name": "stdout",
     "output_type": "stream",
     "text": [
      "(-5.00000000000000, 7.50000000000000)\n"
     ]
    }
   ],
   "source": [
    "#Calculate Vertex:\n",
    "vertex = sym.solve(sym.diff(f,x),x)\n",
    "y_vertex = f.evalf(subs={x:vertex[0]})\n",
    "vertex = (vertex[0], y_vertex)\n",
    "print(vertex)"
   ]
  },
  {
   "cell_type": "code",
   "execution_count": 26,
   "id": "5073ff8c",
   "metadata": {},
   "outputs": [
    {
     "name": "stdout",
     "output_type": "stream",
     "text": [
      "[-6.32174537314726 + 0.e-22*I, -3.25046383307744 - 0.e-22*I, 0.405542539558034 - 0.e-21*I]\n"
     ]
    }
   ],
   "source": [
    "#Determine intervals where f > 0:\n",
    "f_positive = sym.solve(f - 0)\n",
    "print(f_positive)"
   ]
  },
  {
   "cell_type": "code",
   "execution_count": 28,
   "id": "5957a06f",
   "metadata": {},
   "outputs": [
    {
     "name": "stdout",
     "output_type": "stream",
     "text": [
      "[-6.32174537314726 + 0.e-22*I, -3.25046383307744 - 0.e-22*I, 0.405542539558034 - 0.e-21*I]\n"
     ]
    }
   ],
   "source": [
    "#Determine intervals where f < 0:\n",
    "f_negative = sym.solve(f)\n",
    "print(f_negative)"
   ]
  }
 ],
 "metadata": {
  "kernelspec": {
   "display_name": "Python 3 (ipykernel)",
   "language": "python",
   "name": "python3"
  },
  "language_info": {
   "codemirror_mode": {
    "name": "ipython",
    "version": 3
   },
   "file_extension": ".py",
   "mimetype": "text/x-python",
   "name": "python",
   "nbconvert_exporter": "python",
   "pygments_lexer": "ipython3",
   "version": "3.11.0"
  }
 },
 "nbformat": 4,
 "nbformat_minor": 5
}
